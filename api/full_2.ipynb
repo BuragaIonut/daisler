{
 "cells": [
  {
   "cell_type": "code",
   "execution_count": 11,
   "id": "d8a88ab6",
   "metadata": {},
   "outputs": [
    {
     "name": "stdout",
     "output_type": "stream",
     "text": [
      "✅ Saved: step1_original.svg\n"
     ]
    }
   ],
   "source": [
    "# !pip install pymupdf reportlab lxml\n",
    "\n",
    "import fitz  # PyMuPDF\n",
    "from reportlab.pdfgen import canvas\n",
    "from reportlab.lib.colors import CMYKColor\n",
    "from lxml import etree\n",
    "\n",
    "# -------------------------------\n",
    "# Step 1. Read PDF & export first page to SVG\n",
    "# -------------------------------\n",
    "\n",
    "input_pdf = \"desert.pdf\"\n",
    "doc = fitz.open(input_pdf)\n",
    "page = doc[0]\n",
    "\n",
    "svg_str = page.get_svg_image()\n",
    "with open(\"step1_original.svg\", \"w\", encoding=\"utf-8\") as f:\n",
    "    f.write(svg_str)\n",
    "\n",
    "print(\"✅ Saved: step1_original.svg\")\n"
   ]
  },
  {
   "cell_type": "code",
   "execution_count": 12,
   "id": "407e5bc2",
   "metadata": {},
   "outputs": [
    {
     "name": "stdout",
     "output_type": "stream",
     "text": [
      "✅ Saved: step2_bleed.svg\n"
     ]
    }
   ],
   "source": [
    "# -------------------------------\n",
    "# Step 2. Add bleed to SVG (expand viewBox)\n",
    "# -------------------------------\n",
    "\n",
    "bleed_mm = 3\n",
    "pt_per_inch = 72\n",
    "mm_to_inch = 1 / 25.4\n",
    "bleed_points = bleed_mm * mm_to_inch * pt_per_inch\n",
    "\n",
    "tree = etree.fromstring(svg_str.encode(\"utf-8\"))\n",
    "\n",
    "width = float(tree.get(\"width\").replace(\"pt\", \"\"))\n",
    "height = float(tree.get(\"height\").replace(\"pt\", \"\"))\n",
    "viewBox = [float(v) for v in tree.get(\"viewBox\").split()]\n",
    "\n",
    "# Expand viewBox for bleed\n",
    "viewBox[0] -= bleed_points\n",
    "viewBox[1] -= bleed_points\n",
    "viewBox[2] += 2 * bleed_points\n",
    "viewBox[3] += 2 * bleed_points\n",
    "\n",
    "tree.set(\"width\", f\"{width + 2*bleed_points}pt\")\n",
    "tree.set(\"height\", f\"{height + 2*bleed_points}pt\")\n",
    "tree.set(\"viewBox\", \" \".join(str(v) for v in viewBox))\n",
    "\n",
    "svg_bleed_str = etree.tostring(tree, encoding=\"unicode\")\n",
    "with open(\"step2_bleed.svg\", \"w\", encoding=\"utf-8\") as f:\n",
    "    f.write(svg_bleed_str)\n",
    "\n",
    "print(\"✅ Saved: step2_bleed.svg\")"
   ]
  },
  {
   "cell_type": "code",
   "execution_count": 13,
   "id": "f0d3e4a2",
   "metadata": {},
   "outputs": [
    {
     "name": "stdout",
     "output_type": "stream",
     "text": [
      "✅ Saved: step3_bleed.pdf\n"
     ]
    }
   ],
   "source": [
    "# -------------------------------\n",
    "# Step 3. Create PDF with bleed (without CutContour)\n",
    "# -------------------------------\n",
    "\n",
    "# Make new PDF with larger page size\n",
    "new_doc = fitz.open()\n",
    "new_page = new_doc.new_page(width=viewBox[2], height=viewBox[3])\n",
    "\n",
    "# Place original PDF page into the center of bleed page\n",
    "target_rect = fitz.Rect(bleed_points, bleed_points,\n",
    "                        bleed_points + width, bleed_points + height)\n",
    "new_page.show_pdf_page(target_rect, doc, 0)\n",
    "\n",
    "new_doc.save(\"step3_bleed.pdf\")\n",
    "new_doc.close()\n",
    "print(\"✅ Saved: step3_bleed.pdf\")"
   ]
  },
  {
   "cell_type": "code",
   "execution_count": 14,
   "id": "e364a11e",
   "metadata": {},
   "outputs": [
    {
     "name": "stdout",
     "output_type": "stream",
     "text": [
      "✅ Saved: step4_bleed_cutcontour.pdf\n"
     ]
    }
   ],
   "source": [
    "# -------------------------------\n",
    "# Step 4. Add CutContour to the bleed PDF\n",
    "# -------------------------------\n",
    "\n",
    "from reportlab.pdfgen import canvas\n",
    "from PyPDF2 import PdfReader, PdfWriter\n",
    "\n",
    "# Define spot color\n",
    "spot = CMYKColor(0, 1, 0, 0, spotName=\"CUT\")\n",
    "\n",
    "# Get page size from bleed PDF\n",
    "bleed_reader = PdfReader(\"step3_bleed.pdf\")\n",
    "page_bleed = bleed_reader.pages[0]\n",
    "page_width = float(page_bleed.mediabox.width)\n",
    "page_height = float(page_bleed.mediabox.height)\n",
    "\n",
    "# Make overlay PDF with just cutline\n",
    "overlay_pdf = \"overlay_cutline.pdf\"\n",
    "c = canvas.Canvas(overlay_pdf, pagesize=(page_width, page_height))\n",
    "c.setStrokeColor(spot)\n",
    "c.setLineWidth(0.25)\n",
    "\n",
    "# Draw cut line at trim box (inside bleed)\n",
    "c.rect(bleed_points, bleed_points, width, height, stroke=1, fill=0)\n",
    "c.save()\n",
    "\n",
    "# Merge overlay with bleed PDF\n",
    "from PyPDF2 import PdfMerger\n",
    "writer = PdfWriter()\n",
    "from PyPDF2 import PdfReader\n",
    "import io\n",
    "\n",
    "base = PdfReader(\"step3_bleed.pdf\")\n",
    "overlay = PdfReader(overlay_pdf)\n",
    "\n",
    "page = base.pages[0]\n",
    "page.merge_page(overlay.pages[0])\n",
    "writer.add_page(page)\n",
    "\n",
    "with open(\"step4_bleed_cutcontour.pdf\", \"wb\") as f:\n",
    "    writer.write(f)\n",
    "\n",
    "print(\"✅ Saved: step4_bleed_cutcontour.pdf\")"
   ]
  },
  {
   "cell_type": "code",
   "execution_count": 3,
   "id": "997f7076",
   "metadata": {},
   "outputs": [
    {
     "name": "stdout",
     "output_type": "stream",
     "text": [
      "✅ Saved: step3_bleed.pdf\n"
     ]
    }
   ],
   "source": [
    "# -------------------------------\n",
    "# Step 3. Create PDF with bleed (without CutContour)\n",
    "# -------------------------------\n",
    "\n",
    "# Make new PDF with larger page size\n",
    "new_doc = fitz.open()\n",
    "new_page = new_doc.new_page(width=viewBox[2], height=viewBox[3])\n",
    "\n",
    "# Place original PDF page into the center of bleed page\n",
    "target_rect = fitz.Rect(bleed_points, bleed_points,\n",
    "                        bleed_points + width, bleed_points + height)\n",
    "new_page.show_pdf_page(target_rect, doc, 0)\n",
    "\n",
    "new_doc.save(\"step3_bleed.pdf\")\n",
    "new_doc.close()\n",
    "print(\"✅ Saved: step3_bleed.pdf\")\n"
   ]
  },
  {
   "cell_type": "code",
   "execution_count": 5,
   "id": "f6a9372b",
   "metadata": {},
   "outputs": [
    {
     "name": "stdout",
     "output_type": "stream",
     "text": [
      "✅ Saved: step4_bleed_cutcontour.pdf\n"
     ]
    }
   ],
   "source": [
    "# -------------------------------\n",
    "# Step 4. Add CutContour to the bleed PDF\n",
    "# -------------------------------\n",
    "\n",
    "from reportlab.pdfgen import canvas\n",
    "from PyPDF2 import PdfReader, PdfWriter\n",
    "\n",
    "# Define spot color\n",
    "spot = CMYKColor(0, 1, 0, 0, spotName=\"CutContour\")\n",
    "\n",
    "# Get page size from bleed PDF\n",
    "bleed_reader = PdfReader(\"step3_bleed.pdf\")\n",
    "page_bleed = bleed_reader.pages[0]\n",
    "page_width = float(page_bleed.mediabox.width)\n",
    "page_height = float(page_bleed.mediabox.height)\n",
    "\n",
    "# Make overlay PDF with just cutline\n",
    "overlay_pdf = \"overlay_cutline.pdf\"\n",
    "c = canvas.Canvas(overlay_pdf, pagesize=(page_width, page_height))\n",
    "c.setStrokeColor(spot)\n",
    "c.setLineWidth(0.25)\n",
    "\n",
    "# Draw cut line at trim box (inside bleed)\n",
    "c.rect(bleed_points, bleed_points, width, height, stroke=1, fill=0)\n",
    "c.save()\n",
    "\n",
    "# Merge overlay with bleed PDF\n",
    "from PyPDF2 import PdfMerger\n",
    "writer = PdfWriter()\n",
    "from PyPDF2 import PdfReader\n",
    "import io\n",
    "\n",
    "base = PdfReader(\"step3_bleed.pdf\")\n",
    "overlay = PdfReader(overlay_pdf)\n",
    "\n",
    "page = base.pages[0]\n",
    "page.merge_page(overlay.pages[0])\n",
    "writer.add_page(page)\n",
    "\n",
    "with open(\"step4_bleed_cutcontour.pdf\", \"wb\") as f:\n",
    "    writer.write(f)\n",
    "\n",
    "print(\"✅ Saved: step4_bleed_cutcontour.pdf\")\n"
   ]
  },
  {
   "cell_type": "code",
   "execution_count": 6,
   "id": "6f4cc0f3",
   "metadata": {},
   "outputs": [
    {
     "name": "stdout",
     "output_type": "stream",
     "text": [
      "Target size: 595.275590551181 x 841.8897637795275\n",
      "✅ Saved: step5_resized.pdf\n"
     ]
    }
   ],
   "source": [
    "# -------------------------------\n",
    "# Step 5. Redimension final PDF to specific size & DPI\n",
    "# -------------------------------\n",
    "\n",
    "# Target dimensions\n",
    "final_width_cm = 21    # e.g. A4 width\n",
    "final_height_cm = 29.7 # A4 height\n",
    "dpi = 300\n",
    "\n",
    "final_width_points = (final_width_cm / 2.54) * 72\n",
    "final_height_points = (final_height_cm / 2.54) * 72\n",
    "\n",
    "print(\"Target size:\", final_width_points, \"x\", final_height_points)\n",
    "\n",
    "# Scale factors\n",
    "scale_x = final_width_points / page_width\n",
    "scale_y = final_height_points / page_height\n",
    "scale = min(scale_x, scale_y)\n",
    "\n",
    "# Create resized PDF\n",
    "resized_doc = fitz.open()\n",
    "resized_page = resized_doc.new_page(width=final_width_points, height=final_height_points)\n",
    "\n",
    "src_doc = fitz.open(\"step4_bleed_cutcontour.pdf\")\n",
    "src_page = src_doc[0]\n",
    "\n",
    "# Place with scaling\n",
    "resized_page.show_pdf_page(resized_page.rect, src_doc, 0, clip=None)\n",
    "\n",
    "resized_doc.save(\"step5_resized.pdf\")\n",
    "resized_doc.close()\n",
    "src_doc.close()\n",
    "\n",
    "print(\"✅ Saved: step5_resized.pdf\")\n"
   ]
  }
 ],
 "metadata": {
  "kernelspec": {
   "display_name": ".venv",
   "language": "python",
   "name": "python3"
  },
  "language_info": {
   "codemirror_mode": {
    "name": "ipython",
    "version": 3
   },
   "file_extension": ".py",
   "mimetype": "text/x-python",
   "name": "python",
   "nbconvert_exporter": "python",
   "pygments_lexer": "ipython3",
   "version": "3.11.6"
  }
 },
 "nbformat": 4,
 "nbformat_minor": 5
}
