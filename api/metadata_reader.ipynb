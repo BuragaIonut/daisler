{
 "cells": [
  {
   "cell_type": "code",
   "execution_count": 1,
   "id": "2fdba3a9",
   "metadata": {},
   "outputs": [
    {
     "name": "stdout",
     "output_type": "stream",
     "text": [
      "Root Catalog:\n",
      "{'/Metadata': IndirectObject(2, 0, 1257057266256), '/Pages': IndirectObject(1, 0, 1257057266256), '/Type': '/Catalog'}\n"
     ]
    }
   ],
   "source": [
    "from pypdf import PdfReader\n",
    "\n",
    "pdf_path = \"cut line.pdf\"  # Replace with your PDF file path\n",
    "\n",
    "reader = PdfReader(pdf_path)\n",
    "root_catalog = reader.trailer[\"/Root\"]\n",
    "\n",
    "print(\"Root Catalog:\")\n",
    "print(root_catalog)\n",
    "\n"
   ]
  },
  {
   "cell_type": "code",
   "execution_count": 2,
   "id": "0a78f35a",
   "metadata": {},
   "outputs": [
    {
     "name": "stdout",
     "output_type": "stream",
     "text": [
      "{'/Subtype': '/XML', '/Type': '/Metadata'}\n"
     ]
    }
   ],
   "source": [
    "import pprint\n",
    "\n",
    "metadata = root_catalog[\"/Metadata\"].get_object()\n",
    "pprint.pprint(metadata)"
   ]
  },
  {
   "cell_type": "code",
   "execution_count": 3,
   "id": "9a3fd3a2",
   "metadata": {},
   "outputs": [
    {
     "name": "stdout",
     "output_type": "stream",
     "text": [
      "\n",
      "Pages Dictionary:\n",
      "{'/Count': 1, '/Kids': [IndirectObject(6, 0, 1257057266256)], '/Type': '/Pages'}\n"
     ]
    }
   ],
   "source": [
    "# Go deeper: access the /Pages dictionary\n",
    "pages = root_catalog[\"/Pages\"].get_object()\n",
    "print(\"\\nPages Dictionary:\")\n",
    "print(pages)"
   ]
  },
  {
   "cell_type": "code",
   "execution_count": 4,
   "id": "d500c934",
   "metadata": {},
   "outputs": [
    {
     "name": "stdout",
     "output_type": "stream",
     "text": [
      "{'/ArtBox': [107.438, 71.0217, 438.873, 402.457],\n",
      " '/BleedBox': [0.0, 0.0, 500, 500],\n",
      " '/Contents': IndirectObject(7, 0, 1257057266256),\n",
      " '/CropBox': [0.0, 0.0, 500, 500],\n",
      " '/LastModified': \"D:20250825190748+03'00'\",\n",
      " '/MediaBox': [0.0, 0.0, 500, 500],\n",
      " '/Parent': IndirectObject(1, 0, 1257057266256),\n",
      " '/PieceInfo': {'/Illustrator': IndirectObject(11, 0, 1257057266256)},\n",
      " '/Resources': {'/ColorSpace': {'/CS0': IndirectObject(8, 0, 1257057266256)},\n",
      "                '/ExtGState': {'/GS0': IndirectObject(9, 0, 1257057266256)},\n",
      "                '/Properties': {'/MC0': IndirectObject(10, 0, 1257057266256)}},\n",
      " '/Rotate': 0,\n",
      " '/TrimBox': [0.0, 0.0, 500, 500],\n",
      " '/Type': '/Page'}\n"
     ]
    }
   ],
   "source": [
    "import pprint\n",
    "\n",
    "kid = pages[\"/Kids\"][0].get_object()\n",
    "pprint.pprint(kid)\n"
   ]
  },
  {
   "cell_type": "code",
   "execution_count": 5,
   "id": "8f1ca24e",
   "metadata": {},
   "outputs": [
    {
     "name": "stdout",
     "output_type": "stream",
     "text": [
      "{'/CS0': IndirectObject(8, 0, 1257057266256)}\n"
     ]
    }
   ],
   "source": [
    "color_space = kid[\"/Resources\"][\"/ColorSpace\"].get_object() \n",
    "pprint.pprint(color_space)"
   ]
  },
  {
   "cell_type": "code",
   "execution_count": 6,
   "id": "0133a319",
   "metadata": {},
   "outputs": [
    {
     "name": "stdout",
     "output_type": "stream",
     "text": [
      "['/Separation',\n",
      " '/CUT',\n",
      " '/DeviceRGB',\n",
      " {'/C0': [1, 1, 1],\n",
      "  '/C1': [0.862745, 0.133333, 0.129412],\n",
      "  '/Domain': [0, 1],\n",
      "  '/FunctionType': 2,\n",
      "  '/N': 1,\n",
      "  '/Range': [0.0, 1, 0.0, 1, 0.0, 1]}]\n"
     ]
    }
   ],
   "source": [
    "cs0 = color_space[\"/CS0\"].get_object()\n",
    "pprint.pprint(cs0)"
   ]
  },
  {
   "cell_type": "code",
   "execution_count": 7,
   "id": "fa580c19",
   "metadata": {},
   "outputs": [
    {
     "name": "stdout",
     "output_type": "stream",
     "text": [
      "Root Catalog:\n",
      "{'/Metadata': IndirectObject(2, 0, 1257057266256),\n",
      " '/Pages': IndirectObject(1, 0, 1257057266256),\n",
      " '/Type': '/Catalog'}\n",
      "\n",
      "Pages Dictionary:\n",
      "{'/Count': 1, '/Kids': [IndirectObject(6, 0, 1257057266256)], '/Type': '/Pages'}\n",
      "\n",
      "First Kid:\n",
      "{'/ArtBox': [107.438, 71.0217, 438.873, 402.457],\n",
      " '/BleedBox': [0.0, 0.0, 500, 500],\n",
      " '/Contents': IndirectObject(7, 0, 1257057266256),\n",
      " '/CropBox': [0.0, 0.0, 500, 500],\n",
      " '/LastModified': \"D:20250825190748+03'00'\",\n",
      " '/MediaBox': [0.0, 0.0, 500, 500],\n",
      " '/Parent': IndirectObject(1, 0, 1257057266256),\n",
      " '/PieceInfo': {'/Illustrator': IndirectObject(11, 0, 1257057266256)},\n",
      " '/Resources': {'/ColorSpace': {'/CS0': IndirectObject(8, 0, 1257057266256)},\n",
      "                '/ExtGState': {'/GS0': IndirectObject(9, 0, 1257057266256)},\n",
      "                '/Properties': {'/MC0': IndirectObject(10, 0, 1257057266256)}},\n",
      " '/Rotate': 0,\n",
      " '/TrimBox': [0.0, 0.0, 500, 500],\n",
      " '/Type': '/Page'}\n",
      "\n",
      "Color Space:\n",
      "{'/CS0': IndirectObject(8, 0, 1257057266256)}\n",
      "\n",
      "CS0 Object:\n",
      "['/Separation',\n",
      " '/CUT',\n",
      " '/DeviceRGB',\n",
      " {'/C0': [1, 1, 1],\n",
      "  '/C1': [0.862745, 0.133333, 0.129412],\n",
      "  '/Domain': [0, 1],\n",
      "  '/FunctionType': 2,\n",
      "  '/N': 1,\n",
      "  '/Range': [0.0, 1, 0.0, 1, 0.0, 1]}]\n"
     ]
    }
   ],
   "source": [
    "print(\"Root Catalog:\")\n",
    "pprint.pprint(root_catalog)\n",
    "print(\"\\nPages Dictionary:\")\n",
    "pprint.pprint(pages)\n",
    "print(\"\\nFirst Kid:\")\n",
    "pprint.pprint(kid)\n",
    "print(\"\\nColor Space:\")\n",
    "pprint.pprint(color_space)\n",
    "print(\"\\nCS0 Object:\")\n",
    "pprint.pprint(cs0)"
   ]
  },
  {
   "cell_type": "code",
   "execution_count": 8,
   "id": "7de6244d",
   "metadata": {},
   "outputs": [
    {
     "name": "stdout",
     "output_type": "stream",
     "text": [
      "{'/GS0': IndirectObject(9, 0, 1257057266256)}\n"
     ]
    }
   ],
   "source": [
    "extgate = kid[\"/Resources\"][\"/ExtGState\"].get_object()\n",
    "pprint.pprint(extgate)\n"
   ]
  },
  {
   "cell_type": "code",
   "execution_count": 9,
   "id": "2d0df79e",
   "metadata": {},
   "outputs": [
    {
     "name": "stdout",
     "output_type": "stream",
     "text": [
      "{'/AIS': False,\n",
      " '/BM': '/Normal',\n",
      " '/CA': 1,\n",
      " '/OP': False,\n",
      " '/OPM': 1,\n",
      " '/SA': True,\n",
      " '/SMask': '/None',\n",
      " '/Type': '/ExtGState',\n",
      " '/ca': 1,\n",
      " '/op': False}\n"
     ]
    }
   ],
   "source": [
    "g50 = extgate[\"/GS0\"].get_object()\n",
    "pprint.pprint(g50)"
   ]
  },
  {
   "cell_type": "code",
   "execution_count": 10,
   "id": "2afcfc1c",
   "metadata": {},
   "outputs": [
    {
     "name": "stdout",
     "output_type": "stream",
     "text": [
      "{'/MC0': IndirectObject(10, 0, 1257057266256)}\n"
     ]
    }
   ],
   "source": [
    "properties = kid[\"/Resources\"][\"/Properties\"].get_object()\n",
    "pprint.pprint(properties)"
   ]
  },
  {
   "cell_type": "code",
   "execution_count": 11,
   "id": "6a3da973",
   "metadata": {},
   "outputs": [
    {
     "name": "stdout",
     "output_type": "stream",
     "text": [
      "{'/Color': [20224, 32768, 65535],\n",
      " '/Dimmed': False,\n",
      " '/Editable': True,\n",
      " '/Preview': True,\n",
      " '/Printed': True,\n",
      " '/Title': 'Layer 1',\n",
      " '/Visible': True}\n"
     ]
    }
   ],
   "source": [
    "mc0 = properties[\"/MC0\"].get_object()\n",
    "pprint.pprint(mc0)"
   ]
  },
  {
   "cell_type": "code",
   "execution_count": 12,
   "id": "533b8273",
   "metadata": {},
   "outputs": [
    {
     "name": "stdout",
     "output_type": "stream",
     "text": [
      "{'/Filter': '/FlateDecode'}\n"
     ]
    }
   ],
   "source": [
    "contents = kid[\"/Contents\"].get_object()\n",
    "pprint.pprint(contents)"
   ]
  },
  {
   "cell_type": "code",
   "execution_count": 18,
   "id": "02ba1b31",
   "metadata": {},
   "outputs": [
    {
     "data": {
      "text/plain": [
       "'/Layer /MC0 BDC \\nq\\n0 500 500 -500 re\\nW n\\n1 1 1 rg\\n/GS0 gs\\nq 1 0 0 1 438.3727 236.7391 cm\\n0 0 m\\n0 -91.247 -73.97 -165.217 -165.217 -165.217 c\\n-256.464 -165.217 -330.435 -91.247 -330.435 0 c\\n-330.435 91.247 -256.464 165.217 -165.217 165.217 c\\n-73.97 165.217 0 91.247 0 0 c\\nf\\nQ\\n/CS0 CS 1  SCN\\nq 1 0 0 1 438.3727 236.7391 cm\\n0 0 m\\n0 -91.247 -73.97 -165.217 -165.217 -165.217 c\\n-256.464 -165.217 -330.435 -91.247 -330.435 0 c\\n-330.435 91.247 -256.464 165.217 -165.217 165.217 c\\n-73.97 165.217 0 91.247 0 0 c\\nh\\nS\\nQ\\nEMC \\nQ\\n'"
      ]
     },
     "execution_count": 18,
     "metadata": {},
     "output_type": "execute_result"
    }
   ],
   "source": [
    "content_data = contents.get_data().decode(\"latin-1\", errors=\"replace\")\n",
    "content_data"
   ]
  },
  {
   "cell_type": "code",
   "execution_count": 14,
   "id": "c8db0b01",
   "metadata": {},
   "outputs": [
    {
     "name": "stdout",
     "output_type": "stream",
     "text": [
      "\n",
      "SVG written to cutline.svg\n"
     ]
    }
   ],
   "source": [
    "import re\n",
    "\n",
    "# Decompress the stream\n",
    "content_data = contents.get_data().decode(\"latin-1\", errors=\"replace\")\n",
    "\n",
    "# Regex to capture operators with numbers before them\n",
    "tokens = re.findall(r\"([\\-0-9.]+(?:\\s+[\\-0-9.]+)*)\\s+([mlcShf])\", content_data)\n",
    "\n",
    "# Parse into structured commands\n",
    "commands = []\n",
    "for numbers, operator in tokens:\n",
    "    coords = [float(x) for x in numbers.strip().split()]\n",
    "    commands.append({\"op\": operator, \"coords\": coords})\n",
    "\n",
    "# --- Write to SVG ---\n",
    "svg_path = \"cutline.svg\"\n",
    "with open(svg_path, \"w\") as f:\n",
    "    f.write('<svg xmlns=\"http://www.w3.org/2000/svg\" viewBox=\"0 0 500 500\">\\n')\n",
    "    \n",
    "    # White background rectangle (same size as page box)\n",
    "    f.write('<rect width=\"500\" height=\"500\" fill=\"white\"/>\\n')\n",
    "    \n",
    "    # Path for cutline\n",
    "    f.write('<path d=\"')\n",
    "    for cmd in commands:\n",
    "        if cmd[\"op\"] == \"m\":\n",
    "            f.write(f'M {cmd[\"coords\"][0]} {cmd[\"coords\"][1]} ')\n",
    "        elif cmd[\"op\"] == \"l\":\n",
    "            f.write(f'L {cmd[\"coords\"][0]} {cmd[\"coords\"][1]} ')\n",
    "        elif cmd[\"op\"] == \"c\":\n",
    "            x1, y1, x2, y2, x3, y3 = cmd[\"coords\"]\n",
    "            f.write(f'C {x1} {y1}, {x2} {y2}, {x3} {y3} ')\n",
    "        elif cmd[\"op\"] == \"h\":\n",
    "            f.write(\"Z \")\n",
    "    f.write('\" stroke=\"red\" stroke-width=\"1\" fill=\"none\"/>\\n</svg>')\n",
    "\n",
    "print(f\"\\nSVG written to {svg_path}\")"
   ]
  },
  {
   "cell_type": "code",
   "execution_count": 15,
   "id": "329f4207",
   "metadata": {},
   "outputs": [
    {
     "name": "stdout",
     "output_type": "stream",
     "text": [
      "{'/LastModified': \"D:20250825190748+03'00'\",\n",
      " '/Private': IndirectObject(12, 0, 1257057266256)}\n"
     ]
    }
   ],
   "source": [
    "piece_info = kid[\"/PieceInfo\"][\"/Illustrator\"].get_object()\n",
    "pprint.pprint(piece_info)"
   ]
  },
  {
   "cell_type": "code",
   "execution_count": 16,
   "id": "11680186",
   "metadata": {},
   "outputs": [
    {
     "name": "stdout",
     "output_type": "stream",
     "text": [
      "{'/AIMetaData': IndirectObject(13, 0, 1257057266256),\n",
      " '/AIPDFPrivateData1': IndirectObject(14, 0, 1257057266256),\n",
      " '/AIPDFPrivateData2': IndirectObject(15, 0, 1257057266256),\n",
      " '/AIPDFPrivateData3': IndirectObject(16, 0, 1257057266256),\n",
      " '/AIPDFPrivateData4': IndirectObject(17, 0, 1257057266256),\n",
      " '/AIPDFPrivateData5': IndirectObject(18, 0, 1257057266256),\n",
      " '/ContainerVersion': 9,\n",
      " '/CreatorVersion': 29,\n",
      " '/NumBlock': 5,\n",
      " '/RoundtripStreamType': 2,\n",
      " '/RoundtripVersion': 29}\n"
     ]
    }
   ],
   "source": [
    "private = piece_info[\"/Private\"].get_object()\n",
    "pprint.pprint(private)"
   ]
  },
  {
   "cell_type": "code",
   "execution_count": 17,
   "id": "a86b875d",
   "metadata": {},
   "outputs": [
    {
     "name": "stdout",
     "output_type": "stream",
     "text": [
      "{}\n"
     ]
    }
   ],
   "source": [
    "aimetadata = private[\"/AIPDFPrivateData5\"].get_object()\n",
    "pprint.pprint(aimetadata)"
   ]
  }
 ],
 "metadata": {
  "kernelspec": {
   "display_name": ".venv",
   "language": "python",
   "name": "python3"
  },
  "language_info": {
   "codemirror_mode": {
    "name": "ipython",
    "version": 3
   },
   "file_extension": ".py",
   "mimetype": "text/x-python",
   "name": "python",
   "nbconvert_exporter": "python",
   "pygments_lexer": "ipython3",
   "version": "3.11.6"
  }
 },
 "nbformat": 4,
 "nbformat_minor": 5
}
