{
 "cells": [
  {
   "cell_type": "code",
   "execution_count": 1,
   "id": "cbf87912",
   "metadata": {},
   "outputs": [
    {
     "name": "stdout",
     "output_type": "stream",
     "text": [
      "PDF saved as fish.pdf\n"
     ]
    }
   ],
   "source": [
    "import fitz  # PyMuPDF\n",
    "\n",
    "# Path to your image\n",
    "image_path = \"fish.jpg\"\n",
    "pdf_path = \"fish.pdf\"\n",
    "\n",
    "# Open the image to get its dimensions\n",
    "img_doc = fitz.open(image_path)\n",
    "pix = img_doc[0].get_pixmap()\n",
    "img_width, img_height = pix.width, pix.height\n",
    "\n",
    "# Create a new PDF\n",
    "doc = fitz.open()\n",
    "\n",
    "# Define page size slightly larger than the image\n",
    "page_width = int(img_width * 1.5)   # 50% wider than image\n",
    "page_height = int(img_height * 1.5) # 50% taller than image\n",
    "\n",
    "# Add a new page with custom size\n",
    "page = doc.new_page(width=page_width, height=page_height)\n",
    "\n",
    "# Define where to place the image (e.g., top-left corner, leaving empty margins)\n",
    "rect = fitz.Rect(50, 50, 50 + img_width, 50 + img_height)\n",
    "\n",
    "# Insert the image into the rectangle\n",
    "page.insert_image(rect, filename=image_path)\n",
    "\n",
    "# Save the PDF\n",
    "doc.save(pdf_path)\n",
    "doc.close()\n",
    "\n",
    "print(f\"PDF saved as {pdf_path}\")\n"
   ]
  },
  {
   "cell_type": "code",
   "execution_count": 2,
   "id": "95367571",
   "metadata": {},
   "outputs": [
    {
     "name": "stdout",
     "output_type": "stream",
     "text": [
      "Trimmed PDF saved as clean_fish.pdf\n"
     ]
    }
   ],
   "source": [
    "import fitz  # PyMuPDF\n",
    "import cv2\n",
    "import numpy as np\n",
    "\n",
    "def trim_pdf(input_pdf, output_pdf, dpi=200):\n",
    "    \"\"\"\n",
    "    Create a cleaned PDF by cropping each page to the bounding box of its content.\n",
    "    \n",
    "    Args:\n",
    "        input_pdf (str): Path to input PDF.\n",
    "        output_pdf (str): Path to save trimmed PDF.\n",
    "        dpi (int): Resolution for rendering and output quality.\n",
    "    \"\"\"\n",
    "    doc = fitz.open(input_pdf)\n",
    "    new_doc = fitz.open()\n",
    "\n",
    "    for page_index, page in enumerate(doc):\n",
    "        # Render page to image\n",
    "        pix = page.get_pixmap(dpi=dpi)\n",
    "        img = np.frombuffer(pix.samples, dtype=np.uint8).reshape(pix.height, pix.width, pix.n)\n",
    "        if pix.n == 4:  # RGBA → drop alpha\n",
    "            img = img[:, :, :3]\n",
    "\n",
    "        # Convert to grayscale\n",
    "        gray = cv2.cvtColor(img, cv2.COLOR_RGB2GRAY)\n",
    "\n",
    "        # Threshold (white background → 255)\n",
    "        _, thresh = cv2.threshold(gray, 240, 255, cv2.THRESH_BINARY_INV)\n",
    "\n",
    "        # Find contours\n",
    "        contours, _ = cv2.findContours(thresh, cv2.RETR_EXTERNAL, cv2.CHAIN_APPROX_SIMPLE)\n",
    "\n",
    "        if contours:\n",
    "            # Get bounding box covering all content\n",
    "            x_min = min(cv2.boundingRect(c)[0] for c in contours)\n",
    "            y_min = min(cv2.boundingRect(c)[1] for c in contours)\n",
    "            x_max = max(cv2.boundingRect(c)[0] + cv2.boundingRect(c)[2] for c in contours)\n",
    "            y_max = max(cv2.boundingRect(c)[1] + cv2.boundingRect(c)[3] for c in contours)\n",
    "\n",
    "            cropped = img[y_min:y_max, x_min:x_max]\n",
    "\n",
    "            # Convert cropped image to Pixmap for PDF embedding\n",
    "            cropped_rgb = cv2.cvtColor(cropped, cv2.COLOR_RGB2BGR)\n",
    "            cropped_bytes = cv2.imencode(\".png\", cropped_rgb)[1].tobytes()\n",
    "\n",
    "            # Insert into new PDF\n",
    "            rect = fitz.Rect(0, 0, cropped.shape[1], cropped.shape[0])  # width x height\n",
    "            new_page = new_doc.new_page(width=rect.width, height=rect.height)\n",
    "            new_page.insert_image(rect, stream=cropped_bytes)\n",
    "\n",
    "    # Save new PDF\n",
    "    new_doc.save(output_pdf)\n",
    "    doc.close()\n",
    "    new_doc.close()\n",
    "    print(f\"Trimmed PDF saved as {output_pdf}\")\n",
    "\n",
    "\n",
    "trim_pdf(\"fish.pdf\", \"clean_fish.pdf\")\n"
   ]
  }
 ],
 "metadata": {
  "kernelspec": {
   "display_name": ".venv",
   "language": "python",
   "name": "python3"
  },
  "language_info": {
   "codemirror_mode": {
    "name": "ipython",
    "version": 3
   },
   "file_extension": ".py",
   "mimetype": "text/x-python",
   "name": "python",
   "nbconvert_exporter": "python",
   "pygments_lexer": "ipython3",
   "version": "3.11.6"
  }
 },
 "nbformat": 4,
 "nbformat_minor": 5
}
