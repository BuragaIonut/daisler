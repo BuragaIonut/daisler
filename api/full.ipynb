{
 "cells": [
  {
   "cell_type": "code",
   "execution_count": 1,
   "id": "29f37e4b",
   "metadata": {},
   "outputs": [
    {
     "name": "stdout",
     "output_type": "stream",
     "text": [
      "Original size (points): 896.0 x 896.0\n"
     ]
    }
   ],
   "source": [
    "# !pip install pymupdf reportlab\n",
    "\n",
    "import fitz  # PyMuPDF\n",
    "from reportlab.pdfgen import canvas\n",
    "from reportlab.lib.colors import CMYKColor\n",
    "from reportlab.pdfbase import pdfdoc\n",
    "\n",
    "# 1. Read first page of PDF\n",
    "input_pdf = \"desert.pdf\"\n",
    "doc = fitz.open(input_pdf)\n",
    "page = doc[0]\n",
    "\n",
    "# Extract page dimensions\n",
    "orig_rect = page.rect\n",
    "print(\"Original size (points):\", orig_rect.width, \"x\", orig_rect.height)\n"
   ]
  },
  {
   "cell_type": "code",
   "execution_count": 2,
   "id": "ec8586fb",
   "metadata": {},
   "outputs": [
    {
     "name": "stdout",
     "output_type": "stream",
     "text": [
      "New size with bleed: 913.007874015748 x 913.007874015748\n"
     ]
    }
   ],
   "source": [
    "# Define bleed (mm → points)\n",
    "bleed_mm = 3\n",
    "bleed_points = bleed_mm * 72 / 25.4  # 1 inch = 25.4mm, 72pt per inch\n",
    "\n",
    "new_width = orig_rect.width + 2 * bleed_points\n",
    "new_height = orig_rect.height + 2 * bleed_points\n",
    "print(\"New size with bleed:\", new_width, \"x\", new_height)\n"
   ]
  },
  {
   "cell_type": "code",
   "execution_count": 3,
   "id": "2aee2775",
   "metadata": {},
   "outputs": [
    {
     "data": {
      "text/plain": [
       "8"
      ]
     },
     "execution_count": 3,
     "metadata": {},
     "output_type": "execute_result"
    }
   ],
   "source": [
    "output_pdf = \"with_cut_line.pdf\"\n",
    "\n",
    "# Make a new PDF\n",
    "new_doc = fitz.open()\n",
    "new_page = new_doc.new_page(width=new_width, height=new_height)\n",
    "\n",
    "# Place original page in center (leaving bleed margins)\n",
    "target_rect = fitz.Rect(bleed_points, bleed_points,\n",
    "                        bleed_points + orig_rect.width,\n",
    "                        bleed_points + orig_rect.height)\n",
    "\n",
    "new_page.show_pdf_page(target_rect, doc, 0)\n"
   ]
  },
  {
   "cell_type": "code",
   "execution_count": 4,
   "id": "6bf9ef89",
   "metadata": {},
   "outputs": [],
   "source": [
    "# Use ReportLab to add the spot color cut line\n",
    "packet = output_pdf\n",
    "c = canvas.Canvas(packet, pagesize=(new_width, new_height))\n",
    "\n",
    "# Define spot color CutContour (100% magenta)\n",
    "spot = CMYKColor(0, 1, 0, 0, spotName=\"CUT\")\n",
    "c.setStrokeColor(spot)\n",
    "c.setLineWidth(0.25)\n",
    "\n",
    "# Draw cut line at trim size (inside bleed area)\n",
    "c.rect(bleed_points, bleed_points,\n",
    "       orig_rect.width, orig_rect.height,\n",
    "       stroke=1, fill=0)\n",
    "\n",
    "c.showPage()\n",
    "c.save()\n"
   ]
  },
  {
   "cell_type": "code",
   "execution_count": 11,
   "id": "225ef4e3",
   "metadata": {},
   "outputs": [
    {
     "name": "stdout",
     "output_type": "stream",
     "text": [
      "Target size: 595.275590551181 x 841.8897637795275\n",
      "Scale factor: 2.413796004583884\n"
     ]
    }
   ],
   "source": [
    "# Example: Final page target (cm)\n",
    "final_width_cm = 21   # A4 width\n",
    "final_height_cm = 29.7\n",
    "dpi = 300\n",
    "\n",
    "# Convert to PDF points\n",
    "final_width_points = (final_width_cm / 2.54) * 72\n",
    "final_height_points = (final_height_cm / 2.54) * 72\n",
    "print(\"Target size:\", final_width_points, \"x\", final_height_points)\n",
    "\n",
    "# Scale content proportionally\n",
    "scale_x = final_width_points / new_width\n",
    "scale_y = final_height_points / new_height\n",
    "scale = min(scale_x, scale_y)\n",
    "\n",
    "print(\"Scale factor:\", scale)\n"
   ]
  }
 ],
 "metadata": {
  "kernelspec": {
   "display_name": ".venv",
   "language": "python",
   "name": "python3"
  },
  "language_info": {
   "codemirror_mode": {
    "name": "ipython",
    "version": 3
   },
   "file_extension": ".py",
   "mimetype": "text/x-python",
   "name": "python",
   "nbconvert_exporter": "python",
   "pygments_lexer": "ipython3",
   "version": "3.11.6"
  }
 },
 "nbformat": 4,
 "nbformat_minor": 5
}
